{
 "cells": [
  {
   "cell_type": "code",
   "execution_count": 1,
   "id": "c3feb35a",
   "metadata": {},
   "outputs": [],
   "source": [
    "import websocket\n",
    "import json\n",
    "import psycopg2\n",
    "import pandas as pd\n",
    "from sqlalchemy import create_engine\n",
    "from sqlalchemy.engine import URL\n",
    "import mitosheet"
   ]
  },
  {
   "cell_type": "code",
   "execution_count": 2,
   "id": "0b73a4a6",
   "metadata": {},
   "outputs": [],
   "source": [
    "url_object = URL.create(\n",
    "    \"postgresql+psycopg2\",\n",
    "    username=\"postgres\",\n",
    "    password=\"yourpassword\",  # plain (unescaped) text\n",
    "    host=\"localhost\",\n",
    "    database=\"crypto_02\",\n",
    ")"
   ]
  },
  {
   "cell_type": "code",
   "execution_count": 3,
   "id": "4608b2ad",
   "metadata": {},
   "outputs": [],
   "source": [
    "engine = create_engine(url_object)"
   ]
  },
  {
   "cell_type": "code",
   "execution_count": 4,
   "id": "3a3dea81",
   "metadata": {},
   "outputs": [],
   "source": [
    "endpoint = \"wss://stream.binance.com:9443/ws/!miniTicker@arr\""
   ]
  },
  {
   "cell_type": "code",
   "execution_count": 6,
   "id": "4c7df715",
   "metadata": {},
   "outputs": [
    {
     "data": {
      "text/plain": [
       "True"
      ]
     },
     "execution_count": 6,
     "metadata": {},
     "output_type": "execute_result"
    }
   ],
   "source": [
    "def on_message(ws, message):\n",
    "    global out\n",
    "    out = json.loads(message)\n",
    "    #print(out)\n",
    "    df_import(out)\n",
    "ws = websocket.WebSocketApp(endpoint, on_message=on_message)\n",
    "ws.run_forever()"
   ]
  },
  {
   "cell_type": "code",
   "execution_count": null,
   "id": "31b215b0",
   "metadata": {},
   "outputs": [],
   "source": [
    "out"
   ]
  },
  {
   "cell_type": "code",
   "execution_count": null,
   "id": "59d872be",
   "metadata": {},
   "outputs": [],
   "source": [
    "pd.DataFrame(out)"
   ]
  },
  {
   "cell_type": "code",
   "execution_count": null,
   "id": "e92a73dc",
   "metadata": {},
   "outputs": [],
   "source": [
    "df_ = pd.DataFrame(out)"
   ]
  },
  {
   "cell_type": "code",
   "execution_count": null,
   "id": "2efe91f6",
   "metadata": {},
   "outputs": [],
   "source": [
    "df_['s'].str.endswith('USDT')"
   ]
  },
  {
   "cell_type": "code",
   "execution_count": null,
   "id": "226cf549",
   "metadata": {},
   "outputs": [],
   "source": [
    "df_[df_['s'].str.endswith('USDT')]"
   ]
  },
  {
   "cell_type": "code",
   "execution_count": null,
   "id": "9c5e4bf2",
   "metadata": {},
   "outputs": [],
   "source": [
    "newdf_ = df_[df_['s'].str.endswith('USDT')]"
   ]
  },
  {
   "cell_type": "code",
   "execution_count": null,
   "id": "6f6b1725",
   "metadata": {},
   "outputs": [],
   "source": [
    "mitosheet.sheet(newdf_)"
   ]
  },
  {
   "cell_type": "code",
   "execution_count": 13,
   "id": "e9684ee2",
   "metadata": {},
   "outputs": [],
   "source": [
    "final = df_[['s','E','c']]"
   ]
  },
  {
   "cell_type": "code",
   "execution_count": 14,
   "id": "3fdcac65",
   "metadata": {},
   "outputs": [
    {
     "data": {
      "text/html": [
       "<div><div id=0690ad5d-bebc-4cfc-85b6-00165957421f style=\"display:none; background-color:#9D6CFF; color:white; width:200px; height:30px; padding-left:5px; border-radius:4px; flex-direction:row; justify-content:space-around; align-items:center;\" onmouseover=\"this.style.backgroundColor='#BA9BF8'\" onmouseout=\"this.style.backgroundColor='#9D6CFF'\" onclick=\"window.commands?.execute('create-mitosheet-from-dataframe-output');\">See Full Dataframe in Mito</div> <script> if (window.commands?.hasCommand('create-mitosheet-from-dataframe-output')) document.getElementById('0690ad5d-bebc-4cfc-85b6-00165957421f').style.display = 'flex' </script> <table border=\"1\" class=\"dataframe\">\n",
       "  <thead>\n",
       "    <tr style=\"text-align: right;\">\n",
       "      <th></th>\n",
       "      <th>s</th>\n",
       "      <th>E</th>\n",
       "      <th>c</th>\n",
       "    </tr>\n",
       "  </thead>\n",
       "  <tbody>\n",
       "    <tr>\n",
       "      <th>0</th>\n",
       "      <td>BNBETH</td>\n",
       "      <td>1670160756619</td>\n",
       "      <td>0.23070000</td>\n",
       "    </tr>\n",
       "    <tr>\n",
       "      <th>1</th>\n",
       "      <td>BTCUSDT</td>\n",
       "      <td>1670160756579</td>\n",
       "      <td>16943.72000000</td>\n",
       "    </tr>\n",
       "    <tr>\n",
       "      <th>2</th>\n",
       "      <td>ETHUSDT</td>\n",
       "      <td>1670160756659</td>\n",
       "      <td>1255.46000000</td>\n",
       "    </tr>\n",
       "    <tr>\n",
       "      <th>3</th>\n",
       "      <td>LINKETH</td>\n",
       "      <td>1670160756622</td>\n",
       "      <td>0.00583200</td>\n",
       "    </tr>\n",
       "    <tr>\n",
       "      <th>4</th>\n",
       "      <td>TRXETH</td>\n",
       "      <td>1670160756622</td>\n",
       "      <td>0.00004234</td>\n",
       "    </tr>\n",
       "    <tr>\n",
       "      <th>...</th>\n",
       "      <td>...</td>\n",
       "      <td>...</td>\n",
       "      <td>...</td>\n",
       "    </tr>\n",
       "    <tr>\n",
       "      <th>40</th>\n",
       "      <td>NEXOUSDT</td>\n",
       "      <td>1670160756468</td>\n",
       "      <td>0.69200000</td>\n",
       "    </tr>\n",
       "    <tr>\n",
       "      <th>41</th>\n",
       "      <td>USTCBUSD</td>\n",
       "      <td>1670160756809</td>\n",
       "      <td>0.02195114</td>\n",
       "    </tr>\n",
       "    <tr>\n",
       "      <th>42</th>\n",
       "      <td>HOOKBTC</td>\n",
       "      <td>1670160756395</td>\n",
       "      <td>0.00014372</td>\n",
       "    </tr>\n",
       "    <tr>\n",
       "      <th>43</th>\n",
       "      <td>HOOKUSDT</td>\n",
       "      <td>1670160756546</td>\n",
       "      <td>2.43620000</td>\n",
       "    </tr>\n",
       "    <tr>\n",
       "      <th>44</th>\n",
       "      <td>HOOKBUSD</td>\n",
       "      <td>1670160756759</td>\n",
       "      <td>2.43570000</td>\n",
       "    </tr>\n",
       "  </tbody>\n",
       "</table></div>"
      ],
      "text/plain": [
       "            s              E               c\n",
       "0      BNBETH  1670160756619      0.23070000\n",
       "1     BTCUSDT  1670160756579  16943.72000000\n",
       "2     ETHUSDT  1670160756659   1255.46000000\n",
       "3     LINKETH  1670160756622      0.00583200\n",
       "4      TRXETH  1670160756622      0.00004234\n",
       "5     BNBUSDT  1670160756492    289.40000000\n",
       "6      XMRBTC  1670160756510      0.00846800\n",
       "7     TRXUSDT  1670160756274      0.05315000\n",
       "8     ETCUSDT  1670160756336     19.36000000\n",
       "9      TRXXRP  1670160756077      0.13651000\n",
       "10   LINKUSDT  1670160756697      7.32400000\n",
       "11    ZRXUSDT  1670160756789      0.19540000\n",
       "12  TFUELUSDT  1670160755930      0.04500000\n",
       "13    DOGEBTC  1670160755880      0.00000607\n",
       "14   DOGEUSDT  1670160756851      0.10286000\n",
       "15    BTCBUSD  1670160756304  16946.80000000\n",
       "16   BUSDUSDT  1670160756532      0.99990000\n",
       "17    ETHBUSD  1670160756175   1255.67000000\n",
       "18     BNBTRY  1670160756856   5494.00000000\n",
       "19    USDTTRY  1670160756169     18.97000000\n",
       "20    EURUSDT  1670160756301      1.05290000\n",
       "21    SOLUSDT  1670160756398     13.40000000\n",
       "22   DOGEBUSD  1670160755886      0.10286000\n",
       "23     ANTBTC  1670160756295      0.00013111\n",
       "24    ANTUSDT  1670160756373      2.22500000\n",
       "25    DOTUSDT  1670160756126      5.52000000\n",
       "26   YFIIUSDT  1670160756435   1328.30000000\n",
       "27  CREAMBUSD  1670160756849     15.07000000\n",
       "28    INJBUSD  1670160756311      1.61200000\n",
       "29    INJUSDT  1670160756296      1.61100000\n",
       "30    CHZBUSD  1670160756450      0.16570000\n",
       "31   SHIBUSDT  1670160756409      0.00000926\n",
       "32    LTOBUSD  1670160756640      0.08090000\n",
       "33    SUNBUSD  1670160756823      0.00535000\n",
       "34    BNXUSDT  1670160755860     69.20000000\n",
       "35  VOXELUSDT  1670160756521      0.21440000\n",
       "36    ACHUSDT  1670160756788      0.00969000\n",
       "37    IMXUSDT  1670160756180      0.49900000\n",
       "38   SCRTUSDT  1670160755916      0.82200000\n",
       "39     ANCBTC  1670160755861      0.00000322\n",
       "40   NEXOUSDT  1670160756468      0.69200000\n",
       "41   USTCBUSD  1670160756809      0.02195114\n",
       "42    HOOKBTC  1670160756395      0.00014372\n",
       "43   HOOKUSDT  1670160756546      2.43620000\n",
       "44   HOOKBUSD  1670160756759      2.43570000"
      ]
     },
     "execution_count": 14,
     "metadata": {},
     "output_type": "execute_result"
    }
   ],
   "source": [
    "final"
   ]
  },
  {
   "cell_type": "code",
   "execution_count": 15,
   "id": "750e9602",
   "metadata": {},
   "outputs": [
    {
     "name": "stdout",
     "output_type": "stream",
     "text": [
      "        s              E           c\n",
      "0  BNBETH  1670160756619  0.23070000\n",
      "         s              E               c\n",
      "1  BTCUSDT  1670160756579  16943.72000000\n",
      "         s              E              c\n",
      "2  ETHUSDT  1670160756659  1255.46000000\n",
      "         s              E           c\n",
      "3  LINKETH  1670160756622  0.00583200\n",
      "        s              E           c\n",
      "4  TRXETH  1670160756622  0.00004234\n",
      "         s              E             c\n",
      "5  BNBUSDT  1670160756492  289.40000000\n",
      "        s              E           c\n",
      "6  XMRBTC  1670160756510  0.00846800\n",
      "         s              E           c\n",
      "7  TRXUSDT  1670160756274  0.05315000\n",
      "         s              E            c\n",
      "8  ETCUSDT  1670160756336  19.36000000\n",
      "        s              E           c\n",
      "9  TRXXRP  1670160756077  0.13651000\n",
      "           s              E           c\n",
      "10  LINKUSDT  1670160756697  7.32400000\n",
      "          s              E           c\n",
      "11  ZRXUSDT  1670160756789  0.19540000\n",
      "            s              E           c\n",
      "12  TFUELUSDT  1670160755930  0.04500000\n",
      "          s              E           c\n",
      "13  DOGEBTC  1670160755880  0.00000607\n",
      "           s              E           c\n",
      "14  DOGEUSDT  1670160756851  0.10286000\n",
      "          s              E               c\n",
      "15  BTCBUSD  1670160756304  16946.80000000\n",
      "           s              E           c\n",
      "16  BUSDUSDT  1670160756532  0.99990000\n",
      "          s              E              c\n",
      "17  ETHBUSD  1670160756175  1255.67000000\n",
      "         s              E              c\n",
      "18  BNBTRY  1670160756856  5494.00000000\n",
      "          s              E            c\n",
      "19  USDTTRY  1670160756169  18.97000000\n",
      "          s              E           c\n",
      "20  EURUSDT  1670160756301  1.05290000\n",
      "          s              E            c\n",
      "21  SOLUSDT  1670160756398  13.40000000\n",
      "           s              E           c\n",
      "22  DOGEBUSD  1670160755886  0.10286000\n",
      "         s              E           c\n",
      "23  ANTBTC  1670160756295  0.00013111\n",
      "          s              E           c\n",
      "24  ANTUSDT  1670160756373  2.22500000\n",
      "          s              E           c\n",
      "25  DOTUSDT  1670160756126  5.52000000\n",
      "           s              E              c\n",
      "26  YFIIUSDT  1670160756435  1328.30000000\n",
      "            s              E            c\n",
      "27  CREAMBUSD  1670160756849  15.07000000\n",
      "          s              E           c\n",
      "28  INJBUSD  1670160756311  1.61200000\n",
      "          s              E           c\n",
      "29  INJUSDT  1670160756296  1.61100000\n",
      "          s              E           c\n",
      "30  CHZBUSD  1670160756450  0.16570000\n",
      "           s              E           c\n",
      "31  SHIBUSDT  1670160756409  0.00000926\n",
      "          s              E           c\n",
      "32  LTOBUSD  1670160756640  0.08090000\n",
      "          s              E           c\n",
      "33  SUNBUSD  1670160756823  0.00535000\n",
      "          s              E            c\n",
      "34  BNXUSDT  1670160755860  69.20000000\n",
      "            s              E           c\n",
      "35  VOXELUSDT  1670160756521  0.21440000\n",
      "          s              E           c\n",
      "36  ACHUSDT  1670160756788  0.00969000\n",
      "          s              E           c\n",
      "37  IMXUSDT  1670160756180  0.49900000\n",
      "           s              E           c\n",
      "38  SCRTUSDT  1670160755916  0.82200000\n",
      "         s              E           c\n",
      "39  ANCBTC  1670160755861  0.00000322\n",
      "           s              E           c\n",
      "40  NEXOUSDT  1670160756468  0.69200000\n",
      "           s              E           c\n",
      "41  USTCBUSD  1670160756809  0.02195114\n",
      "          s              E           c\n",
      "42  HOOKBTC  1670160756395  0.00014372\n",
      "           s              E           c\n",
      "43  HOOKUSDT  1670160756546  2.43620000\n",
      "           s              E           c\n",
      "44  HOOKBUSD  1670160756759  2.43570000\n"
     ]
    }
   ],
   "source": [
    "for i in range(len(final)):\n",
    "    r_ = final [i:i+1]\n",
    "    print(r_)"
   ]
  },
  {
   "cell_type": "code",
   "execution_count": 16,
   "id": "6fa31b3f",
   "metadata": {},
   "outputs": [
    {
     "data": {
      "text/plain": [
       "'HOOKBUSD'"
      ]
     },
     "execution_count": 16,
     "metadata": {},
     "output_type": "execute_result"
    }
   ],
   "source": [
    "r_.s.values[0]"
   ]
  },
  {
   "cell_type": "code",
   "execution_count": 17,
   "id": "37b0b0b7",
   "metadata": {},
   "outputs": [
    {
     "data": {
      "text/plain": [
       "44    2.4357\n",
       "Name: c, dtype: float64"
      ]
     },
     "execution_count": 17,
     "metadata": {},
     "output_type": "execute_result"
    }
   ],
   "source": [
    "r_.c.astype(float)"
   ]
  },
  {
   "cell_type": "code",
   "execution_count": 5,
   "id": "2234c55a",
   "metadata": {},
   "outputs": [],
   "source": [
    "def df_import(data):\n",
    "    df_     = pd.DataFrame(data)\n",
    "    df_     = df_[df_['s'].str.endswith('USDT')]\n",
    "    df_.c   = df_.c.astype(float)\n",
    "    final   = df_[['s','E','c']]\n",
    "    for i in range(len(final)):\n",
    "        row_ = final[i:i+1]\n",
    "        row_[['E', 'c']].to_sql(row_.s.values[0], engine, if_exists='append', index=False)"
   ]
  },
  {
   "cell_type": "code",
   "execution_count": 20,
   "id": "904030d4",
   "metadata": {},
   "outputs": [
    {
     "name": "stdout",
     "output_type": "stream",
     "text": [
      "         s              E               c\n",
      "0  BTCUSDT  1670081688352  16960.65000000\n",
      "         s              E              c\n",
      "1  ETHUSDT  1670081688321  1272.64000000\n",
      "        s              E           c\n",
      "2  XRPBTC  1670081687713  0.00002326\n",
      "         s              E             c\n",
      "3  BNBUSDT  1670081688334  292.20000000\n",
      "         s              E           c\n",
      "4  XRPUSDT  1670081687744  0.39440000\n",
      "         s              E           c\n",
      "5  TRXUSDT  1670081688104  0.05401000\n",
      "          s              E           c\n",
      "6  DOGEUSDT  1670081687645  0.10201000\n",
      "           s              E           c\n",
      "7  COCOSUSDT  1670081687635  0.64660000\n",
      "         s              E           c\n",
      "8  CHZUSDT  1670081687874  0.16790000\n",
      "         s              E             c\n",
      "9  BNBBUSD  1670081688043  292.20000000\n",
      "          s              E               c\n",
      "10  BTCBUSD  1670081688246  16961.56000000\n",
      "           s              E           c\n",
      "11  BUSDUSDT  1670081687465  0.99990000\n",
      "          s              E            c\n",
      "12  LTCBUSD  1670081687433  76.70000000\n",
      "          s              E            c\n",
      "13  USDTTRY  1670081687434  18.93000000\n",
      "         s              E             c\n",
      "14  BNBEUR  1670081687914  277.40000000\n",
      "          s              E           c\n",
      "15  BTSUSDT  1670081687667  0.01205000\n",
      "           s              E           c\n",
      "16  SANDUSDT  1670081687967  0.59140000\n",
      "          s              E           c\n",
      "17  RSRBUSD  1670081687507  0.00411000\n",
      "          s              E           c\n",
      "18  VIDTBTC  1670081688283  0.00000240\n",
      "           s              E           c\n",
      "19  VIDTBUSD  1670081687612  0.04065000\n",
      "          s              E           c\n",
      "20  FILBUSD  1670081688239  4.55000000\n",
      "          s              E           c\n",
      "21  HARDBNB  1670081688025  0.00059200\n",
      "          s              E           c\n",
      "22  HARDBTC  1670081688203  0.00001019\n",
      "           s              E           c\n",
      "23  HARDBUSD  1670081688040  0.17310000\n",
      "           s              E           c\n",
      "24  HARDUSDT  1670081688353  0.17290000\n",
      "          s              E           c\n",
      "25  DOGETRY  1670081688070  1.93200000\n",
      "           s              E           c\n",
      "26  MASKBUSD  1670081688188  3.93100000\n",
      "           s              E           c\n",
      "27  MASKUSDT  1670081688367  3.92900000\n",
      "          s              E           c\n",
      "28  FTMBUSD  1670081687774  0.25090000\n",
      "          s              E             c\n",
      "29  QNTBUSD  1670081687761  132.10000000\n",
      "          s              E           c\n",
      "30  RAYUSDT  1670081687654  0.21620000\n",
      "             s              E           c\n",
      "31  ALPACABUSD  1670081688331  0.27440000\n",
      "           s              E           c\n",
      "32  VIDTUSDT  1670081688233  0.04065000\n",
      "           s              E           c\n",
      "33  RAREBUSD  1670081688253  0.12710000\n",
      "           s              E           c\n",
      "34  RAREUSDT  1670081688242  0.12700000\n",
      "          s              E           c\n",
      "35  VGXUSDT  1670081688033  0.46500000\n",
      "            s              E           c\n",
      "36  JASMYBUSD  1670081687682  0.00421400\n",
      "            s              E           c\n",
      "37  COCOSBUSD  1670081687644  0.64680000\n",
      "           s              E            c\n",
      "38  COCOSTRY  1670081688056  12.24000000\n",
      "          s              E           c\n",
      "39  BTTCTRY  1670081687422  0.00001336\n",
      "          s              E           c\n",
      "40  PHBBUSD  1670081687882  0.68430000\n",
      "          s              E           c\n",
      "41  APTBUSD  1670081687988  5.13230000\n"
     ]
    }
   ],
   "source": [
    "for i in range(len(final)):\n",
    "    r_ = final[i:i+1]\n",
    "    print(r_)"
   ]
  }
 ],
 "metadata": {
  "kernelspec": {
   "display_name": "Python 3 (ipykernel)",
   "language": "python",
   "name": "python3"
  },
  "vscode": {
   "interpreter": {
    "hash": "6f70b76f78ae69c1b7fef027b8efc19efece7b6012a41775ac298cbdb24d3605"
   }
  }
 },
 "nbformat": 4,
 "nbformat_minor": 5
}
